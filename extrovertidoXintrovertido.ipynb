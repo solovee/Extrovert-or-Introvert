{
  "cells": [
    {
      "cell_type": "code",
      "execution_count": null,
      "metadata": {
        "id": "M3mveiohiFIS"
      },
      "outputs": [],
      "source": [
        "import tensorflow as tf\n",
        "import pandas as pd\n",
        "import numpy as np\n",
        "import matplotlib.pyplot as plt\n",
        "import sklearn as sk\n",
        "from sklearn.svm import SVC\n",
        "from sklearn.ensemble import RandomForestClassifier \n",
        "from sklearn.metrics import accuracy_score, precision_score, recall_score, f1_score, roc_auc_score, confusion_matrix, ConfusionMatrixDisplay\n",
        "import joblib\n"
      ]
    },
    {
      "cell_type": "markdown",
      "metadata": {},
      "source": [
        "**CARREGAMENTO DO DATASET**"
      ]
    },
    {
      "cell_type": "code",
      "execution_count": null,
      "metadata": {
        "id": "B-8lCm5dji5e"
      },
      "outputs": [],
      "source": [
        "df1 = pd.read_csv(\"personality_datasert.csv\")"
      ]
    },
    {
      "cell_type": "code",
      "execution_count": 119,
      "metadata": {},
      "outputs": [
        {
          "data": {
            "text/html": [
              "<div>\n",
              "<style scoped>\n",
              "    .dataframe tbody tr th:only-of-type {\n",
              "        vertical-align: middle;\n",
              "    }\n",
              "\n",
              "    .dataframe tbody tr th {\n",
              "        vertical-align: top;\n",
              "    }\n",
              "\n",
              "    .dataframe thead th {\n",
              "        text-align: right;\n",
              "    }\n",
              "</style>\n",
              "<table border=\"1\" class=\"dataframe\">\n",
              "  <thead>\n",
              "    <tr style=\"text-align: right;\">\n",
              "      <th></th>\n",
              "      <th>Time_spent_Alone</th>\n",
              "      <th>Stage_fear</th>\n",
              "      <th>Social_event_attendance</th>\n",
              "      <th>Going_outside</th>\n",
              "      <th>Drained_after_socializing</th>\n",
              "      <th>Friends_circle_size</th>\n",
              "      <th>Post_frequency</th>\n",
              "      <th>Personality</th>\n",
              "    </tr>\n",
              "  </thead>\n",
              "  <tbody>\n",
              "    <tr>\n",
              "      <th>0</th>\n",
              "      <td>4.0</td>\n",
              "      <td>No</td>\n",
              "      <td>4.0</td>\n",
              "      <td>6.0</td>\n",
              "      <td>No</td>\n",
              "      <td>13.0</td>\n",
              "      <td>5.0</td>\n",
              "      <td>Extrovert</td>\n",
              "    </tr>\n",
              "    <tr>\n",
              "      <th>1</th>\n",
              "      <td>9.0</td>\n",
              "      <td>Yes</td>\n",
              "      <td>0.0</td>\n",
              "      <td>0.0</td>\n",
              "      <td>Yes</td>\n",
              "      <td>0.0</td>\n",
              "      <td>3.0</td>\n",
              "      <td>Introvert</td>\n",
              "    </tr>\n",
              "    <tr>\n",
              "      <th>2</th>\n",
              "      <td>9.0</td>\n",
              "      <td>Yes</td>\n",
              "      <td>1.0</td>\n",
              "      <td>2.0</td>\n",
              "      <td>Yes</td>\n",
              "      <td>5.0</td>\n",
              "      <td>2.0</td>\n",
              "      <td>Introvert</td>\n",
              "    </tr>\n",
              "    <tr>\n",
              "      <th>3</th>\n",
              "      <td>0.0</td>\n",
              "      <td>No</td>\n",
              "      <td>6.0</td>\n",
              "      <td>7.0</td>\n",
              "      <td>No</td>\n",
              "      <td>14.0</td>\n",
              "      <td>8.0</td>\n",
              "      <td>Extrovert</td>\n",
              "    </tr>\n",
              "    <tr>\n",
              "      <th>4</th>\n",
              "      <td>3.0</td>\n",
              "      <td>No</td>\n",
              "      <td>9.0</td>\n",
              "      <td>4.0</td>\n",
              "      <td>No</td>\n",
              "      <td>8.0</td>\n",
              "      <td>5.0</td>\n",
              "      <td>Extrovert</td>\n",
              "    </tr>\n",
              "    <tr>\n",
              "      <th>...</th>\n",
              "      <td>...</td>\n",
              "      <td>...</td>\n",
              "      <td>...</td>\n",
              "      <td>...</td>\n",
              "      <td>...</td>\n",
              "      <td>...</td>\n",
              "      <td>...</td>\n",
              "      <td>...</td>\n",
              "    </tr>\n",
              "    <tr>\n",
              "      <th>2895</th>\n",
              "      <td>3.0</td>\n",
              "      <td>No</td>\n",
              "      <td>7.0</td>\n",
              "      <td>6.0</td>\n",
              "      <td>No</td>\n",
              "      <td>6.0</td>\n",
              "      <td>6.0</td>\n",
              "      <td>Extrovert</td>\n",
              "    </tr>\n",
              "    <tr>\n",
              "      <th>2896</th>\n",
              "      <td>3.0</td>\n",
              "      <td>No</td>\n",
              "      <td>8.0</td>\n",
              "      <td>3.0</td>\n",
              "      <td>No</td>\n",
              "      <td>14.0</td>\n",
              "      <td>9.0</td>\n",
              "      <td>Extrovert</td>\n",
              "    </tr>\n",
              "    <tr>\n",
              "      <th>2897</th>\n",
              "      <td>4.0</td>\n",
              "      <td>Yes</td>\n",
              "      <td>1.0</td>\n",
              "      <td>1.0</td>\n",
              "      <td>Yes</td>\n",
              "      <td>4.0</td>\n",
              "      <td>0.0</td>\n",
              "      <td>Introvert</td>\n",
              "    </tr>\n",
              "    <tr>\n",
              "      <th>2898</th>\n",
              "      <td>11.0</td>\n",
              "      <td>Yes</td>\n",
              "      <td>1.0</td>\n",
              "      <td>3.0</td>\n",
              "      <td>Yes</td>\n",
              "      <td>2.0</td>\n",
              "      <td>0.0</td>\n",
              "      <td>Introvert</td>\n",
              "    </tr>\n",
              "    <tr>\n",
              "      <th>2899</th>\n",
              "      <td>3.0</td>\n",
              "      <td>No</td>\n",
              "      <td>6.0</td>\n",
              "      <td>6.0</td>\n",
              "      <td>No</td>\n",
              "      <td>6.0</td>\n",
              "      <td>9.0</td>\n",
              "      <td>Extrovert</td>\n",
              "    </tr>\n",
              "  </tbody>\n",
              "</table>\n",
              "<p>2900 rows × 8 columns</p>\n",
              "</div>"
            ],
            "text/plain": [
              "      Time_spent_Alone Stage_fear  Social_event_attendance  Going_outside  \\\n",
              "0                  4.0         No                      4.0            6.0   \n",
              "1                  9.0        Yes                      0.0            0.0   \n",
              "2                  9.0        Yes                      1.0            2.0   \n",
              "3                  0.0         No                      6.0            7.0   \n",
              "4                  3.0         No                      9.0            4.0   \n",
              "...                ...        ...                      ...            ...   \n",
              "2895               3.0         No                      7.0            6.0   \n",
              "2896               3.0         No                      8.0            3.0   \n",
              "2897               4.0        Yes                      1.0            1.0   \n",
              "2898              11.0        Yes                      1.0            3.0   \n",
              "2899               3.0         No                      6.0            6.0   \n",
              "\n",
              "     Drained_after_socializing  Friends_circle_size  Post_frequency  \\\n",
              "0                           No                 13.0             5.0   \n",
              "1                          Yes                  0.0             3.0   \n",
              "2                          Yes                  5.0             2.0   \n",
              "3                           No                 14.0             8.0   \n",
              "4                           No                  8.0             5.0   \n",
              "...                        ...                  ...             ...   \n",
              "2895                        No                  6.0             6.0   \n",
              "2896                        No                 14.0             9.0   \n",
              "2897                       Yes                  4.0             0.0   \n",
              "2898                       Yes                  2.0             0.0   \n",
              "2899                        No                  6.0             9.0   \n",
              "\n",
              "     Personality  \n",
              "0      Extrovert  \n",
              "1      Introvert  \n",
              "2      Introvert  \n",
              "3      Extrovert  \n",
              "4      Extrovert  \n",
              "...          ...  \n",
              "2895   Extrovert  \n",
              "2896   Extrovert  \n",
              "2897   Introvert  \n",
              "2898   Introvert  \n",
              "2899   Extrovert  \n",
              "\n",
              "[2900 rows x 8 columns]"
            ]
          },
          "execution_count": 119,
          "metadata": {},
          "output_type": "execute_result"
        }
      ],
      "source": [
        "df1"
      ]
    },
    {
      "cell_type": "markdown",
      "metadata": {},
      "source": [
        "**PRÉ-PROCESSAMENTO E EXPLORAÇÃO**"
      ]
    },
    {
      "cell_type": "code",
      "execution_count": 5,
      "metadata": {},
      "outputs": [],
      "source": [
        "df_one_hot = df1.copy()"
      ]
    },
    {
      "cell_type": "code",
      "execution_count": 7,
      "metadata": {
        "id": "nkCRztQimQjd"
      },
      "outputs": [],
      "source": [
        "df_one_hot.dropna(inplace=True)"
      ]
    },
    {
      "cell_type": "code",
      "execution_count": 8,
      "metadata": {
        "id": "IqbThGu7n5zk"
      },
      "outputs": [],
      "source": [
        "df_one_hot['Personality'] = df_one_hot['Personality'].map({'Introvert': 0, 'Extrovert': 1})"
      ]
    },
    {
      "cell_type": "code",
      "execution_count": 9,
      "metadata": {},
      "outputs": [],
      "source": [
        "df_one_hot['Stage_fear'] = df_one_hot['Stage_fear'].map({'No': 0, 'Yes': 1})"
      ]
    },
    {
      "cell_type": "code",
      "execution_count": 10,
      "metadata": {},
      "outputs": [],
      "source": [
        "df_one_hot['Drained_after_socializing'] = df_one_hot['Drained_after_socializing'].map({'No': 0, 'Yes': 1})"
      ]
    },
    {
      "cell_type": "code",
      "execution_count": 120,
      "metadata": {},
      "outputs": [
        {
          "data": {
            "text/html": [
              "<div>\n",
              "<style scoped>\n",
              "    .dataframe tbody tr th:only-of-type {\n",
              "        vertical-align: middle;\n",
              "    }\n",
              "\n",
              "    .dataframe tbody tr th {\n",
              "        vertical-align: top;\n",
              "    }\n",
              "\n",
              "    .dataframe thead th {\n",
              "        text-align: right;\n",
              "    }\n",
              "</style>\n",
              "<table border=\"1\" class=\"dataframe\">\n",
              "  <thead>\n",
              "    <tr style=\"text-align: right;\">\n",
              "      <th></th>\n",
              "      <th>Time_spent_Alone</th>\n",
              "      <th>Stage_fear</th>\n",
              "      <th>Social_event_attendance</th>\n",
              "      <th>Going_outside</th>\n",
              "      <th>Drained_after_socializing</th>\n",
              "      <th>Friends_circle_size</th>\n",
              "      <th>Post_frequency</th>\n",
              "      <th>Personality</th>\n",
              "    </tr>\n",
              "  </thead>\n",
              "  <tbody>\n",
              "    <tr>\n",
              "      <th>0</th>\n",
              "      <td>4.0</td>\n",
              "      <td>0</td>\n",
              "      <td>4.0</td>\n",
              "      <td>6.0</td>\n",
              "      <td>0</td>\n",
              "      <td>13.0</td>\n",
              "      <td>5.0</td>\n",
              "      <td>1</td>\n",
              "    </tr>\n",
              "    <tr>\n",
              "      <th>1</th>\n",
              "      <td>9.0</td>\n",
              "      <td>1</td>\n",
              "      <td>0.0</td>\n",
              "      <td>0.0</td>\n",
              "      <td>1</td>\n",
              "      <td>0.0</td>\n",
              "      <td>3.0</td>\n",
              "      <td>0</td>\n",
              "    </tr>\n",
              "    <tr>\n",
              "      <th>2</th>\n",
              "      <td>9.0</td>\n",
              "      <td>1</td>\n",
              "      <td>1.0</td>\n",
              "      <td>2.0</td>\n",
              "      <td>1</td>\n",
              "      <td>5.0</td>\n",
              "      <td>2.0</td>\n",
              "      <td>0</td>\n",
              "    </tr>\n",
              "    <tr>\n",
              "      <th>3</th>\n",
              "      <td>0.0</td>\n",
              "      <td>0</td>\n",
              "      <td>6.0</td>\n",
              "      <td>7.0</td>\n",
              "      <td>0</td>\n",
              "      <td>14.0</td>\n",
              "      <td>8.0</td>\n",
              "      <td>1</td>\n",
              "    </tr>\n",
              "    <tr>\n",
              "      <th>4</th>\n",
              "      <td>3.0</td>\n",
              "      <td>0</td>\n",
              "      <td>9.0</td>\n",
              "      <td>4.0</td>\n",
              "      <td>0</td>\n",
              "      <td>8.0</td>\n",
              "      <td>5.0</td>\n",
              "      <td>1</td>\n",
              "    </tr>\n",
              "    <tr>\n",
              "      <th>...</th>\n",
              "      <td>...</td>\n",
              "      <td>...</td>\n",
              "      <td>...</td>\n",
              "      <td>...</td>\n",
              "      <td>...</td>\n",
              "      <td>...</td>\n",
              "      <td>...</td>\n",
              "      <td>...</td>\n",
              "    </tr>\n",
              "    <tr>\n",
              "      <th>2895</th>\n",
              "      <td>3.0</td>\n",
              "      <td>0</td>\n",
              "      <td>7.0</td>\n",
              "      <td>6.0</td>\n",
              "      <td>0</td>\n",
              "      <td>6.0</td>\n",
              "      <td>6.0</td>\n",
              "      <td>1</td>\n",
              "    </tr>\n",
              "    <tr>\n",
              "      <th>2896</th>\n",
              "      <td>3.0</td>\n",
              "      <td>0</td>\n",
              "      <td>8.0</td>\n",
              "      <td>3.0</td>\n",
              "      <td>0</td>\n",
              "      <td>14.0</td>\n",
              "      <td>9.0</td>\n",
              "      <td>1</td>\n",
              "    </tr>\n",
              "    <tr>\n",
              "      <th>2897</th>\n",
              "      <td>4.0</td>\n",
              "      <td>1</td>\n",
              "      <td>1.0</td>\n",
              "      <td>1.0</td>\n",
              "      <td>1</td>\n",
              "      <td>4.0</td>\n",
              "      <td>0.0</td>\n",
              "      <td>0</td>\n",
              "    </tr>\n",
              "    <tr>\n",
              "      <th>2898</th>\n",
              "      <td>11.0</td>\n",
              "      <td>1</td>\n",
              "      <td>1.0</td>\n",
              "      <td>3.0</td>\n",
              "      <td>1</td>\n",
              "      <td>2.0</td>\n",
              "      <td>0.0</td>\n",
              "      <td>0</td>\n",
              "    </tr>\n",
              "    <tr>\n",
              "      <th>2899</th>\n",
              "      <td>3.0</td>\n",
              "      <td>0</td>\n",
              "      <td>6.0</td>\n",
              "      <td>6.0</td>\n",
              "      <td>0</td>\n",
              "      <td>6.0</td>\n",
              "      <td>9.0</td>\n",
              "      <td>1</td>\n",
              "    </tr>\n",
              "  </tbody>\n",
              "</table>\n",
              "<p>2900 rows × 8 columns</p>\n",
              "</div>"
            ],
            "text/plain": [
              "      Time_spent_Alone  Stage_fear  Social_event_attendance  Going_outside  \\\n",
              "0                  4.0           0                      4.0            6.0   \n",
              "1                  9.0           1                      0.0            0.0   \n",
              "2                  9.0           1                      1.0            2.0   \n",
              "3                  0.0           0                      6.0            7.0   \n",
              "4                  3.0           0                      9.0            4.0   \n",
              "...                ...         ...                      ...            ...   \n",
              "2895               3.0           0                      7.0            6.0   \n",
              "2896               3.0           0                      8.0            3.0   \n",
              "2897               4.0           1                      1.0            1.0   \n",
              "2898              11.0           1                      1.0            3.0   \n",
              "2899               3.0           0                      6.0            6.0   \n",
              "\n",
              "      Drained_after_socializing  Friends_circle_size  Post_frequency  \\\n",
              "0                             0                 13.0             5.0   \n",
              "1                             1                  0.0             3.0   \n",
              "2                             1                  5.0             2.0   \n",
              "3                             0                 14.0             8.0   \n",
              "4                             0                  8.0             5.0   \n",
              "...                         ...                  ...             ...   \n",
              "2895                          0                  6.0             6.0   \n",
              "2896                          0                 14.0             9.0   \n",
              "2897                          1                  4.0             0.0   \n",
              "2898                          1                  2.0             0.0   \n",
              "2899                          0                  6.0             9.0   \n",
              "\n",
              "      Personality  \n",
              "0               1  \n",
              "1               0  \n",
              "2               0  \n",
              "3               1  \n",
              "4               1  \n",
              "...           ...  \n",
              "2895            1  \n",
              "2896            1  \n",
              "2897            0  \n",
              "2898            0  \n",
              "2899            1  \n",
              "\n",
              "[2900 rows x 8 columns]"
            ]
          },
          "execution_count": 120,
          "metadata": {},
          "output_type": "execute_result"
        }
      ],
      "source": [
        "df_one_hot"
      ]
    },
    {
      "cell_type": "code",
      "execution_count": 64,
      "metadata": {
        "colab": {
          "base_uri": "https://localhost:8080/",
          "height": 383
        },
        "id": "AHjSINIGoB_y",
        "outputId": "d8324e6e-4771-4fca-f18b-9a0a68c08680"
      },
      "outputs": [
        {
          "data": {
            "text/html": [
              "<div>\n",
              "<style scoped>\n",
              "    .dataframe tbody tr th:only-of-type {\n",
              "        vertical-align: middle;\n",
              "    }\n",
              "\n",
              "    .dataframe tbody tr th {\n",
              "        vertical-align: top;\n",
              "    }\n",
              "\n",
              "    .dataframe thead th {\n",
              "        text-align: right;\n",
              "    }\n",
              "</style>\n",
              "<table border=\"1\" class=\"dataframe\">\n",
              "  <thead>\n",
              "    <tr style=\"text-align: right;\">\n",
              "      <th></th>\n",
              "      <th>Time_spent_Alone</th>\n",
              "      <th>Stage_fear</th>\n",
              "      <th>Social_event_attendance</th>\n",
              "      <th>Going_outside</th>\n",
              "      <th>Drained_after_socializing</th>\n",
              "      <th>Friends_circle_size</th>\n",
              "      <th>Post_frequency</th>\n",
              "      <th>Personality</th>\n",
              "    </tr>\n",
              "  </thead>\n",
              "  <tbody>\n",
              "    <tr>\n",
              "      <th>Time_spent_Alone</th>\n",
              "      <td>1.000000</td>\n",
              "      <td>0.834469</td>\n",
              "      <td>-0.718139</td>\n",
              "      <td>-0.735247</td>\n",
              "      <td>0.832117</td>\n",
              "      <td>-0.701665</td>\n",
              "      <td>-0.718072</td>\n",
              "      <td>-0.712468</td>\n",
              "    </tr>\n",
              "    <tr>\n",
              "      <th>Stage_fear</th>\n",
              "      <td>0.834469</td>\n",
              "      <td>1.000000</td>\n",
              "      <td>-0.831737</td>\n",
              "      <td>-0.855403</td>\n",
              "      <td>0.956518</td>\n",
              "      <td>-0.810046</td>\n",
              "      <td>-0.826483</td>\n",
              "      <td>-0.847467</td>\n",
              "    </tr>\n",
              "    <tr>\n",
              "      <th>Social_event_attendance</th>\n",
              "      <td>-0.718139</td>\n",
              "      <td>-0.831737</td>\n",
              "      <td>1.000000</td>\n",
              "      <td>0.731941</td>\n",
              "      <td>-0.830611</td>\n",
              "      <td>0.718518</td>\n",
              "      <td>0.727732</td>\n",
              "      <td>0.721520</td>\n",
              "    </tr>\n",
              "    <tr>\n",
              "      <th>Going_outside</th>\n",
              "      <td>-0.735247</td>\n",
              "      <td>-0.855403</td>\n",
              "      <td>0.731941</td>\n",
              "      <td>1.000000</td>\n",
              "      <td>-0.852969</td>\n",
              "      <td>0.718327</td>\n",
              "      <td>0.754758</td>\n",
              "      <td>0.739251</td>\n",
              "    </tr>\n",
              "    <tr>\n",
              "      <th>Drained_after_socializing</th>\n",
              "      <td>0.832117</td>\n",
              "      <td>0.956518</td>\n",
              "      <td>-0.830611</td>\n",
              "      <td>-0.852969</td>\n",
              "      <td>1.000000</td>\n",
              "      <td>-0.805234</td>\n",
              "      <td>-0.823028</td>\n",
              "      <td>-0.845388</td>\n",
              "    </tr>\n",
              "    <tr>\n",
              "      <th>Friends_circle_size</th>\n",
              "      <td>-0.701665</td>\n",
              "      <td>-0.810046</td>\n",
              "      <td>0.718518</td>\n",
              "      <td>0.718327</td>\n",
              "      <td>-0.805234</td>\n",
              "      <td>1.000000</td>\n",
              "      <td>0.690381</td>\n",
              "      <td>0.687203</td>\n",
              "    </tr>\n",
              "    <tr>\n",
              "      <th>Post_frequency</th>\n",
              "      <td>-0.718072</td>\n",
              "      <td>-0.826483</td>\n",
              "      <td>0.727732</td>\n",
              "      <td>0.754758</td>\n",
              "      <td>-0.823028</td>\n",
              "      <td>0.690381</td>\n",
              "      <td>1.000000</td>\n",
              "      <td>0.721062</td>\n",
              "    </tr>\n",
              "    <tr>\n",
              "      <th>Personality</th>\n",
              "      <td>-0.712468</td>\n",
              "      <td>-0.847467</td>\n",
              "      <td>0.721520</td>\n",
              "      <td>0.739251</td>\n",
              "      <td>-0.845388</td>\n",
              "      <td>0.687203</td>\n",
              "      <td>0.721062</td>\n",
              "      <td>1.000000</td>\n",
              "    </tr>\n",
              "  </tbody>\n",
              "</table>\n",
              "</div>"
            ],
            "text/plain": [
              "                           Time_spent_Alone  Stage_fear  \\\n",
              "Time_spent_Alone                   1.000000    0.834469   \n",
              "Stage_fear                         0.834469    1.000000   \n",
              "Social_event_attendance           -0.718139   -0.831737   \n",
              "Going_outside                     -0.735247   -0.855403   \n",
              "Drained_after_socializing          0.832117    0.956518   \n",
              "Friends_circle_size               -0.701665   -0.810046   \n",
              "Post_frequency                    -0.718072   -0.826483   \n",
              "Personality                       -0.712468   -0.847467   \n",
              "\n",
              "                           Social_event_attendance  Going_outside  \\\n",
              "Time_spent_Alone                         -0.718139      -0.735247   \n",
              "Stage_fear                               -0.831737      -0.855403   \n",
              "Social_event_attendance                   1.000000       0.731941   \n",
              "Going_outside                             0.731941       1.000000   \n",
              "Drained_after_socializing                -0.830611      -0.852969   \n",
              "Friends_circle_size                       0.718518       0.718327   \n",
              "Post_frequency                            0.727732       0.754758   \n",
              "Personality                               0.721520       0.739251   \n",
              "\n",
              "                           Drained_after_socializing  Friends_circle_size  \\\n",
              "Time_spent_Alone                            0.832117            -0.701665   \n",
              "Stage_fear                                  0.956518            -0.810046   \n",
              "Social_event_attendance                    -0.830611             0.718518   \n",
              "Going_outside                              -0.852969             0.718327   \n",
              "Drained_after_socializing                   1.000000            -0.805234   \n",
              "Friends_circle_size                        -0.805234             1.000000   \n",
              "Post_frequency                             -0.823028             0.690381   \n",
              "Personality                                -0.845388             0.687203   \n",
              "\n",
              "                           Post_frequency  Personality  \n",
              "Time_spent_Alone                -0.718072    -0.712468  \n",
              "Stage_fear                      -0.826483    -0.847467  \n",
              "Social_event_attendance          0.727732     0.721520  \n",
              "Going_outside                    0.754758     0.739251  \n",
              "Drained_after_socializing       -0.823028    -0.845388  \n",
              "Friends_circle_size              0.690381     0.687203  \n",
              "Post_frequency                   1.000000     0.721062  \n",
              "Personality                      0.721062     1.000000  "
            ]
          },
          "execution_count": 64,
          "metadata": {},
          "output_type": "execute_result"
        }
      ],
      "source": [
        "df_one_hot.corr()"
      ]
    },
    {
      "cell_type": "code",
      "execution_count": null,
      "metadata": {
        "id": "DnYifNOimiR9"
      },
      "outputs": [],
      "source": [
        "X = df_one_hot.drop('Personality', axis=1)\n",
        "y = df_one_hot['Personality']"
      ]
    },
    {
      "cell_type": "code",
      "execution_count": null,
      "metadata": {
        "id": "FKGTof6ij7QN"
      },
      "outputs": [],
      "source": [
        "normalizador = sk.preprocessing.MinMaxScaler()\n",
        "X_norm = normalizador.fit_transform(X)\n",
        "joblib.dump(normalizador, 'normalizador_scaler.pkl')"
      ]
    },
    {
      "cell_type": "markdown",
      "metadata": {},
      "source": [
        "**DIVISÃO DOS DADOS**"
      ]
    },
    {
      "cell_type": "code",
      "execution_count": 17,
      "metadata": {
        "id": "JIzKCWqRnEZj"
      },
      "outputs": [],
      "source": [
        "X_treino, X_teste, y_treino, y_teste = sk.model_selection.train_test_split(X_norm, y, test_size=0.2, random_state=42)"
      ]
    },
    {
      "cell_type": "code",
      "execution_count": 18,
      "metadata": {
        "colab": {
          "base_uri": "https://localhost:8080/",
          "height": 424
        },
        "id": "IyRx_9JfnjUu",
        "outputId": "b44d2608-91a2-40f9-cbe0-f7d73d80d102"
      },
      "outputs": [
        {
          "data": {
            "text/html": [
              "<div>\n",
              "<style scoped>\n",
              "    .dataframe tbody tr th:only-of-type {\n",
              "        vertical-align: middle;\n",
              "    }\n",
              "\n",
              "    .dataframe tbody tr th {\n",
              "        vertical-align: top;\n",
              "    }\n",
              "\n",
              "    .dataframe thead th {\n",
              "        text-align: right;\n",
              "    }\n",
              "</style>\n",
              "<table border=\"1\" class=\"dataframe\">\n",
              "  <thead>\n",
              "    <tr style=\"text-align: right;\">\n",
              "      <th></th>\n",
              "      <th>0</th>\n",
              "      <th>1</th>\n",
              "      <th>2</th>\n",
              "      <th>3</th>\n",
              "      <th>4</th>\n",
              "      <th>5</th>\n",
              "      <th>6</th>\n",
              "    </tr>\n",
              "  </thead>\n",
              "  <tbody>\n",
              "    <tr>\n",
              "      <th>0</th>\n",
              "      <td>0.272727</td>\n",
              "      <td>0.0</td>\n",
              "      <td>0.5</td>\n",
              "      <td>0.857143</td>\n",
              "      <td>0.0</td>\n",
              "      <td>0.666667</td>\n",
              "      <td>0.9</td>\n",
              "    </tr>\n",
              "    <tr>\n",
              "      <th>1</th>\n",
              "      <td>0.545455</td>\n",
              "      <td>1.0</td>\n",
              "      <td>0.3</td>\n",
              "      <td>0.428571</td>\n",
              "      <td>1.0</td>\n",
              "      <td>0.066667</td>\n",
              "      <td>0.0</td>\n",
              "    </tr>\n",
              "    <tr>\n",
              "      <th>2</th>\n",
              "      <td>0.909091</td>\n",
              "      <td>1.0</td>\n",
              "      <td>0.2</td>\n",
              "      <td>0.285714</td>\n",
              "      <td>1.0</td>\n",
              "      <td>0.066667</td>\n",
              "      <td>0.0</td>\n",
              "    </tr>\n",
              "    <tr>\n",
              "      <th>3</th>\n",
              "      <td>0.818182</td>\n",
              "      <td>1.0</td>\n",
              "      <td>0.1</td>\n",
              "      <td>0.285714</td>\n",
              "      <td>1.0</td>\n",
              "      <td>0.200000</td>\n",
              "      <td>0.1</td>\n",
              "    </tr>\n",
              "    <tr>\n",
              "      <th>4</th>\n",
              "      <td>0.909091</td>\n",
              "      <td>1.0</td>\n",
              "      <td>0.0</td>\n",
              "      <td>0.000000</td>\n",
              "      <td>1.0</td>\n",
              "      <td>0.266667</td>\n",
              "      <td>0.1</td>\n",
              "    </tr>\n",
              "    <tr>\n",
              "      <th>...</th>\n",
              "      <td>...</td>\n",
              "      <td>...</td>\n",
              "      <td>...</td>\n",
              "      <td>...</td>\n",
              "      <td>...</td>\n",
              "      <td>...</td>\n",
              "      <td>...</td>\n",
              "    </tr>\n",
              "    <tr>\n",
              "      <th>2315</th>\n",
              "      <td>0.181818</td>\n",
              "      <td>0.0</td>\n",
              "      <td>0.7</td>\n",
              "      <td>0.571429</td>\n",
              "      <td>0.0</td>\n",
              "      <td>0.800000</td>\n",
              "      <td>0.8</td>\n",
              "    </tr>\n",
              "    <tr>\n",
              "      <th>2316</th>\n",
              "      <td>0.000000</td>\n",
              "      <td>0.0</td>\n",
              "      <td>0.7</td>\n",
              "      <td>0.571429</td>\n",
              "      <td>0.0</td>\n",
              "      <td>0.933333</td>\n",
              "      <td>0.6</td>\n",
              "    </tr>\n",
              "    <tr>\n",
              "      <th>2317</th>\n",
              "      <td>1.000000</td>\n",
              "      <td>1.0</td>\n",
              "      <td>0.1</td>\n",
              "      <td>0.142857</td>\n",
              "      <td>1.0</td>\n",
              "      <td>0.266667</td>\n",
              "      <td>0.2</td>\n",
              "    </tr>\n",
              "    <tr>\n",
              "      <th>2318</th>\n",
              "      <td>0.909091</td>\n",
              "      <td>1.0</td>\n",
              "      <td>0.3</td>\n",
              "      <td>0.142857</td>\n",
              "      <td>1.0</td>\n",
              "      <td>0.333333</td>\n",
              "      <td>0.0</td>\n",
              "    </tr>\n",
              "    <tr>\n",
              "      <th>2319</th>\n",
              "      <td>0.363636</td>\n",
              "      <td>1.0</td>\n",
              "      <td>0.2</td>\n",
              "      <td>0.142857</td>\n",
              "      <td>1.0</td>\n",
              "      <td>0.200000</td>\n",
              "      <td>0.1</td>\n",
              "    </tr>\n",
              "  </tbody>\n",
              "</table>\n",
              "<p>2320 rows × 7 columns</p>\n",
              "</div>"
            ],
            "text/plain": [
              "             0    1    2         3    4         5    6\n",
              "0     0.272727  0.0  0.5  0.857143  0.0  0.666667  0.9\n",
              "1     0.545455  1.0  0.3  0.428571  1.0  0.066667  0.0\n",
              "2     0.909091  1.0  0.2  0.285714  1.0  0.066667  0.0\n",
              "3     0.818182  1.0  0.1  0.285714  1.0  0.200000  0.1\n",
              "4     0.909091  1.0  0.0  0.000000  1.0  0.266667  0.1\n",
              "...        ...  ...  ...       ...  ...       ...  ...\n",
              "2315  0.181818  0.0  0.7  0.571429  0.0  0.800000  0.8\n",
              "2316  0.000000  0.0  0.7  0.571429  0.0  0.933333  0.6\n",
              "2317  1.000000  1.0  0.1  0.142857  1.0  0.266667  0.2\n",
              "2318  0.909091  1.0  0.3  0.142857  1.0  0.333333  0.0\n",
              "2319  0.363636  1.0  0.2  0.142857  1.0  0.200000  0.1\n",
              "\n",
              "[2320 rows x 7 columns]"
            ]
          },
          "execution_count": 18,
          "metadata": {},
          "output_type": "execute_result"
        }
      ],
      "source": [
        "pd.DataFrame(X_treino)"
      ]
    },
    {
      "cell_type": "markdown",
      "metadata": {},
      "source": [
        "**CRIAÇÃO DE MODELOS**"
      ]
    },
    {
      "cell_type": "markdown",
      "metadata": {},
      "source": [
        "**MLP**"
      ]
    },
    {
      "cell_type": "code",
      "execution_count": null,
      "metadata": {},
      "outputs": [
        {
          "name": "stdout",
          "output_type": "stream",
          "text": [
            "\n",
            "--- Multi-Layer Perceptron (MLP) ---\n",
            "\u001b[1m19/19\u001b[0m \u001b[32m━━━━━━━━━━━━━━━━━━━━\u001b[0m\u001b[37m\u001b[0m \u001b[1m0s\u001b[0m 6ms/step\n",
            "MLP - Acurácia: 0.9293\n",
            "MLP - Perda (Loss): 0.2412\n",
            "MLP - Precisão: 0.9424\n",
            "MLP - Recall: 0.9205\n",
            "MLP - F1-Score: 0.9313\n",
            "MLP - AUC-ROC: 0.9531\n"
          ]
        }
      ],
      "source": [
        "model = tf.keras.Sequential([\n",
        "    tf.keras.layers.Dense(64, activation='relu'),\n",
        "    tf.keras.layers.Dense(32, activation='relu'),\n",
        "    tf.keras.layers.Dense(16, activation='relu'),\n",
        "    tf.keras.layers.Dense(1, activation='sigmoid')\n",
        "])\n",
        "\n",
        "model.compile(optimizer=tf.keras.optimizers.Adam(learning_rate=0.001), loss='binary_crossentropy', metrics=['accuracy'])\n",
        "model.fit(X_treino, y_treino, epochs=30, batch_size=16, verbose=0) \n",
        "loss_mlp, accuracy_mlp = model.evaluate(X_teste, y_teste, verbose=0)\n",
        "y_pred_proba_mlp = model.predict(X_teste)\n",
        "y_pred_mlp = (y_pred_proba_mlp > 0.5).astype(int)\n",
        "\n",
        "precision_mlp = precision_score(y_teste, y_pred_mlp)\n",
        "recall_mlp = recall_score(y_teste, y_pred_mlp)\n",
        "f1_mlp = f1_score(y_teste, y_pred_mlp)\n",
        "roc_auc_mlp = roc_auc_score(y_teste, y_pred_proba_mlp)\n",
        "\n",
        "print(f\"MLP - Acurácia: {accuracy_mlp:.4f}\")\n",
        "print(f\"MLP - Perda (Loss): {loss_mlp:.4f}\")\n",
        "print(f\"MLP - Precisão: {precision_mlp:.4f}\")\n",
        "print(f\"MLP - Recall: {recall_mlp:.4f}\")\n",
        "print(f\"MLP - F1-Score: {f1_mlp:.4f}\")\n",
        "print(f\"MLP - AUC-ROC: {roc_auc_mlp:.4f}\")\n",
        "model.save('model.keras')"
      ]
    },
    {
      "cell_type": "markdown",
      "metadata": {},
      "source": [
        "**SVM**"
      ]
    },
    {
      "cell_type": "code",
      "execution_count": null,
      "metadata": {},
      "outputs": [
        {
          "name": "stdout",
          "output_type": "stream",
          "text": [
            "SVM - Acurácia: 0.9293\n",
            "SVM - Precisão: 0.9424\n",
            "SVM - Recall: 0.9205\n",
            "SVM - F1-Score: 0.9313\n",
            "SVM - AUC-ROC: 0.9441\n"
          ]
        },
        {
          "data": {
            "text/plain": [
              "['svm_model.pkl']"
            ]
          },
          "execution_count": 45,
          "metadata": {},
          "output_type": "execute_result"
        }
      ],
      "source": [
        "svm_model = SVC(probability=True, random_state=42) \n",
        "svm_model.fit(X_treino, y_treino)\n",
        "\n",
        "y_pred_svm = svm_model.predict(X_teste)\n",
        "y_pred_proba_svm = svm_model.predict_proba(X_teste)[:, 1] \n",
        "\n",
        "accuracy_svm = accuracy_score(y_teste, y_pred_svm)\n",
        "precision_svm = precision_score(y_teste, y_pred_svm)\n",
        "recall_svm = recall_score(y_teste, y_pred_svm)\n",
        "f1_svm = f1_score(y_teste, y_pred_svm)\n",
        "roc_auc_svm = roc_auc_score(y_teste, y_pred_proba_svm)\n",
        "\n",
        "print(f\"SVM - Acurácia: {accuracy_svm:.4f}\")\n",
        "print(f\"SVM - Precisão: {precision_svm:.4f}\")\n",
        "print(f\"SVM - Recall: {recall_svm:.4f}\")\n",
        "print(f\"SVM - F1-Score: {f1_svm:.4f}\")\n",
        "print(f\"SVM - AUC-ROC: {roc_auc_svm:.4f}\")\n",
        "joblib.dump(svm_model, 'svm_model.pkl')\n"
      ]
    },
    {
      "cell_type": "markdown",
      "metadata": {},
      "source": [
        "**RANDOM FOREST**"
      ]
    },
    {
      "cell_type": "code",
      "execution_count": null,
      "metadata": {},
      "outputs": [
        {
          "name": "stdout",
          "output_type": "stream",
          "text": [
            "Random Forest - Acurácia: 0.9224\n",
            "Random Forest - Precisão: 0.9356\n",
            "Random Forest - Recall: 0.9139\n",
            "Random Forest - F1-Score: 0.9246\n",
            "Random Forest - AUC-ROC: 0.9488\n"
          ]
        },
        {
          "data": {
            "text/plain": [
              "['rf_model.pkl']"
            ]
          },
          "execution_count": 46,
          "metadata": {},
          "output_type": "execute_result"
        }
      ],
      "source": [
        "rf_model = RandomForestClassifier(n_estimators=100, random_state=42) \n",
        "rf_model.fit(X_treino, y_treino)\n",
        "y_pred_rf = rf_model.predict(X_teste)\n",
        "y_pred_proba_rf = rf_model.predict_proba(X_teste)[:, 1] \n",
        "accuracy_rf = accuracy_score(y_teste, y_pred_rf)\n",
        "precision_rf = precision_score(y_teste, y_pred_rf)\n",
        "recall_rf = recall_score(y_teste, y_pred_rf)\n",
        "f1_rf = f1_score(y_teste, y_pred_rf)\n",
        "roc_auc_rf = roc_auc_score(y_teste, y_pred_proba_rf)\n",
        "print(f\"Random Forest - Acurácia: {accuracy_rf:.4f}\")\n",
        "print(f\"Random Forest - Precisão: {precision_rf:.4f}\")\n",
        "print(f\"Random Forest - Recall: {recall_rf:.4f}\")\n",
        "print(f\"Random Forest - F1-Score: {f1_rf:.4f}\")\n",
        "print(f\"Random Forest - AUC-ROC: {roc_auc_rf:.4f}\")\n",
        "joblib.dump(rf_model, 'rf_model.pkl')"
      ]
    },
    {
      "cell_type": "markdown",
      "metadata": {},
      "source": [
        "**MATRIZ DE CONFUSÂO**"
      ]
    },
    {
      "cell_type": "code",
      "execution_count": 121,
      "metadata": {},
      "outputs": [
        {
          "name": "stdout",
          "output_type": "stream",
          "text": [
            "\u001b[1m19/19\u001b[0m \u001b[32m━━━━━━━━━━━━━━━━━━━━\u001b[0m\u001b[37m\u001b[0m \u001b[1m0s\u001b[0m 5ms/step  \n"
          ]
        },
        {
          "data": {
            "image/png": "[encoded data removed]",
            "text/plain": [
              "<Figure size 640x480 with 2 Axes>"
            ]
          },
          "metadata": {},
          "output_type": "display_data"
        }
      ],
      "source": [
        "y_pred_proba_mlp = model.predict(X_teste)\n",
        "y_pred_mlp = (y_pred_proba_mlp > 0.5).astype(int)\n",
        "cm_mlp = confusion_matrix(y_teste, y_pred_mlp)\n",
        "disp_mlp = ConfusionMatrixDisplay(confusion_matrix=cm_mlp, display_labels=[\"Introvertido\", \"Extrovertido\"])\n",
        "disp_mlp.plot(cmap=plt.cm.Greens)\n",
        "plt.title('Matriz de Confusão - MLP')\n",
        "plt.show()"
      ]
    },
    {
      "cell_type": "code",
      "execution_count": 122,
      "metadata": {},
      "outputs": [
        {
          "data": {
            "image/png": "[encoded data removed]",
            "text/plain": [
              "<Figure size 640x480 with 2 Axes>"
            ]
          },
          "metadata": {},
          "output_type": "display_data"
        }
      ],
      "source": [
        "y_pred_proba_svm = svm_model.predict(X_teste)\n",
        "y_pred_svm = (y_pred_proba_svm > 0.5).astype(int)\n",
        "\n",
        "cm_svm = confusion_matrix(y_teste, y_pred_svm)\n",
        "disp_svm = ConfusionMatrixDisplay(confusion_matrix=cm_svm, display_labels=[\"Introvertido\", \"Extrovertido\"])\n",
        "disp_svm.plot(cmap=plt.cm.Greens)\n",
        "plt.title('Matriz de Confusão - svm')\n",
        "plt.show()"
      ]
    },
    {
      "cell_type": "code",
      "execution_count": 123,
      "metadata": {},
      "outputs": [
        {
          "data": {
            "image/png": "[encoded data removed]",
            "text/plain": [
              "<Figure size 640x480 with 2 Axes>"
            ]
          },
          "metadata": {},
          "output_type": "display_data"
        }
      ],
      "source": [
        "y_pred_proba_rf = rf_model.predict(X_teste)\n",
        "y_pred_rf = (y_pred_proba_rf > 0.5).astype(int)\n",
        "cm_rf = confusion_matrix(y_teste, y_pred_rf)\n",
        "disp_rf = ConfusionMatrixDisplay(confusion_matrix=cm_rf, display_labels=[\"Introvertido\", \"Extrovertido\"])\n",
        "disp_rf.plot(cmap=plt.cm.Greens)\n",
        "plt.title('Matriz de Confusão - rf')\n",
        "plt.show()"
      ]
    }
  ],
  "metadata": {
    "colab": {
      "provenance": []
    },
    "kernelspec": {
      "display_name": "venv",
      "language": "python",
      "name": "python3"
    },
    "language_info": {
      "codemirror_mode": {
        "name": "ipython",
        "version": 3
      },
      "file_extension": ".py",
      "mimetype": "text/x-python",
      "name": "python",
      "nbconvert_exporter": "python",
      "pygments_lexer": "ipython3",
      "version": "3.9.5"
    }
  },
  "nbformat": 4,
  "nbformat_minor": 0
}
